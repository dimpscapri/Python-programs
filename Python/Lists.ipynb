{
 "cells": [
  {
   "cell_type": "markdown",
   "metadata": {},
   "source": [
    "# Lists"
   ]
  },
  {
   "cell_type": "code",
   "execution_count": 1,
   "metadata": {
    "collapsed": true
   },
   "outputs": [],
   "source": [
    "My_List = ['panner','makhane','tomatoes','cheese','butter','eggs','bread']"
   ]
  },
  {
   "cell_type": "code",
   "execution_count": 2,
   "metadata": {},
   "outputs": [
    {
     "data": {
      "text/plain": [
       "['panner', 'makhane', 'tomatoes', 'cheese', 'butter', 'eggs', 'bread']"
      ]
     },
     "execution_count": 2,
     "metadata": {},
     "output_type": "execute_result"
    }
   ],
   "source": [
    "My_List"
   ]
  },
  {
   "cell_type": "markdown",
   "metadata": {},
   "source": [
    "My result was correct"
   ]
  },
  {
   "cell_type": "code",
   "execution_count": 3,
   "metadata": {},
   "outputs": [
    {
     "data": {
      "text/plain": [
       "7"
      ]
     },
     "execution_count": 3,
     "metadata": {},
     "output_type": "execute_result"
    }
   ],
   "source": [
    "len(My_List)"
   ]
  },
  {
   "cell_type": "markdown",
   "metadata": {},
   "source": [
    "My result was correct"
   ]
  },
  {
   "cell_type": "code",
   "execution_count": 4,
   "metadata": {},
   "outputs": [
    {
     "data": {
      "text/plain": [
       "'panner'"
      ]
     },
     "execution_count": 4,
     "metadata": {},
     "output_type": "execute_result"
    }
   ],
   "source": [
    "My_List[0]"
   ]
  },
  {
   "cell_type": "markdown",
   "metadata": {},
   "source": [
    "My result was correct"
   ]
  },
  {
   "cell_type": "code",
   "execution_count": 5,
   "metadata": {},
   "outputs": [
    {
     "data": {
      "text/plain": [
       "'bread'"
      ]
     },
     "execution_count": 5,
     "metadata": {},
     "output_type": "execute_result"
    }
   ],
   "source": [
    "My_List[6]"
   ]
  },
  {
   "cell_type": "markdown",
   "metadata": {},
   "source": [
    "My result was correct"
   ]
  },
  {
   "cell_type": "code",
   "execution_count": 6,
   "metadata": {},
   "outputs": [
    {
     "data": {
      "text/plain": [
       "['makhane', 'tomatoes', 'cheese', 'butter', 'eggs', 'bread']"
      ]
     },
     "execution_count": 6,
     "metadata": {},
     "output_type": "execute_result"
    }
   ],
   "source": [
    "My_List[1:]"
   ]
  },
  {
   "cell_type": "markdown",
   "metadata": {},
   "source": [
    "My result was correct"
   ]
  },
  {
   "cell_type": "code",
   "execution_count": 7,
   "metadata": {},
   "outputs": [
    {
     "data": {
      "text/plain": [
       "['panner', 'makhane', 'tomatoes']"
      ]
     },
     "execution_count": 7,
     "metadata": {},
     "output_type": "execute_result"
    }
   ],
   "source": [
    "My_List[:3]"
   ]
  },
  {
   "cell_type": "markdown",
   "metadata": {},
   "source": [
    "My result was correct"
   ]
  },
  {
   "cell_type": "code",
   "execution_count": 8,
   "metadata": {},
   "outputs": [
    {
     "data": {
      "text/plain": [
       "['panner',\n",
       " 'makhane',\n",
       " 'tomatoes',\n",
       " 'cheese',\n",
       " 'butter',\n",
       " 'eggs',\n",
       " 'bread',\n",
       " 'chocolates']"
      ]
     },
     "execution_count": 8,
     "metadata": {},
     "output_type": "execute_result"
    }
   ],
   "source": [
    "My_List + ['chocolates']"
   ]
  },
  {
   "cell_type": "code",
   "execution_count": 9,
   "metadata": {},
   "outputs": [
    {
     "data": {
      "text/plain": [
       "['panner', 'makhane', 'tomatoes', 'cheese', 'butter', 'eggs', 'bread']"
      ]
     },
     "execution_count": 9,
     "metadata": {},
     "output_type": "execute_result"
    }
   ],
   "source": [
    "My_List"
   ]
  },
  {
   "cell_type": "markdown",
   "metadata": {},
   "source": [
    "My result was correct"
   ]
  },
  {
   "cell_type": "code",
   "execution_count": 10,
   "metadata": {
    "collapsed": true
   },
   "outputs": [],
   "source": [
    "My_List = My_List + ['Ice cream']"
   ]
  },
  {
   "cell_type": "code",
   "execution_count": 11,
   "metadata": {},
   "outputs": [
    {
     "data": {
      "text/plain": [
       "['panner',\n",
       " 'makhane',\n",
       " 'tomatoes',\n",
       " 'cheese',\n",
       " 'butter',\n",
       " 'eggs',\n",
       " 'bread',\n",
       " 'Ice cream']"
      ]
     },
     "execution_count": 11,
     "metadata": {},
     "output_type": "execute_result"
    }
   ],
   "source": [
    "My_List"
   ]
  },
  {
   "cell_type": "markdown",
   "metadata": {},
   "source": [
    "My result was correct"
   ]
  },
  {
   "cell_type": "code",
   "execution_count": 12,
   "metadata": {},
   "outputs": [
    {
     "data": {
      "text/plain": [
       "['panner',\n",
       " 'makhane',\n",
       " 'tomatoes',\n",
       " 'cheese',\n",
       " 'butter',\n",
       " 'eggs',\n",
       " 'bread',\n",
       " 'Ice cream',\n",
       " 'panner',\n",
       " 'makhane',\n",
       " 'tomatoes',\n",
       " 'cheese',\n",
       " 'butter',\n",
       " 'eggs',\n",
       " 'bread',\n",
       " 'Ice cream']"
      ]
     },
     "execution_count": 12,
     "metadata": {},
     "output_type": "execute_result"
    }
   ],
   "source": [
    "My_List * 2"
   ]
  },
  {
   "cell_type": "markdown",
   "metadata": {},
   "source": [
    "My result was correct"
   ]
  },
  {
   "cell_type": "code",
   "execution_count": 13,
   "metadata": {},
   "outputs": [
    {
     "data": {
      "text/plain": [
       "['panner',\n",
       " 'makhane',\n",
       " 'tomatoes',\n",
       " 'cheese',\n",
       " 'butter',\n",
       " 'eggs',\n",
       " 'bread',\n",
       " 'Ice cream']"
      ]
     },
     "execution_count": 13,
     "metadata": {},
     "output_type": "execute_result"
    }
   ],
   "source": [
    "My_List"
   ]
  },
  {
   "cell_type": "markdown",
   "metadata": {},
   "source": [
    "MY result was correct"
   ]
  },
  {
   "cell_type": "code",
   "execution_count": 14,
   "metadata": {
    "collapsed": true
   },
   "outputs": [],
   "source": [
    "My_List.append('dry cake')"
   ]
  },
  {
   "cell_type": "code",
   "execution_count": 15,
   "metadata": {},
   "outputs": [
    {
     "data": {
      "text/plain": [
       "['panner',\n",
       " 'makhane',\n",
       " 'tomatoes',\n",
       " 'cheese',\n",
       " 'butter',\n",
       " 'eggs',\n",
       " 'bread',\n",
       " 'Ice cream',\n",
       " 'dry cake']"
      ]
     },
     "execution_count": 15,
     "metadata": {},
     "output_type": "execute_result"
    }
   ],
   "source": [
    "My_List"
   ]
  },
  {
   "cell_type": "code",
   "execution_count": 16,
   "metadata": {
    "collapsed": true
   },
   "outputs": [],
   "source": [
    "My_List.append('dahi bala')"
   ]
  },
  {
   "cell_type": "code",
   "execution_count": 17,
   "metadata": {
    "collapsed": true
   },
   "outputs": [],
   "source": [
    "My_List.append('biriyani')"
   ]
  },
  {
   "cell_type": "code",
   "execution_count": 18,
   "metadata": {
    "collapsed": true
   },
   "outputs": [],
   "source": [
    "My_List.append('chole bature')"
   ]
  },
  {
   "cell_type": "code",
   "execution_count": 19,
   "metadata": {},
   "outputs": [
    {
     "data": {
      "text/plain": [
       "['panner',\n",
       " 'makhane',\n",
       " 'tomatoes',\n",
       " 'cheese',\n",
       " 'butter',\n",
       " 'eggs',\n",
       " 'bread',\n",
       " 'Ice cream',\n",
       " 'dry cake',\n",
       " 'dahi bala',\n",
       " 'biriyani',\n",
       " 'chole bature']"
      ]
     },
     "execution_count": 19,
     "metadata": {},
     "output_type": "execute_result"
    }
   ],
   "source": [
    "My_List"
   ]
  },
  {
   "cell_type": "code",
   "execution_count": 20,
   "metadata": {},
   "outputs": [
    {
     "data": {
      "text/plain": [
       "'chole bature'"
      ]
     },
     "execution_count": 20,
     "metadata": {},
     "output_type": "execute_result"
    }
   ],
   "source": [
    "My_List.pop()"
   ]
  },
  {
   "cell_type": "markdown",
   "metadata": {},
   "source": [
    "My result was correct"
   ]
  },
  {
   "cell_type": "code",
   "execution_count": 21,
   "metadata": {
    "collapsed": true
   },
   "outputs": [],
   "source": [
    "My_List.append('Fidget spinner')"
   ]
  },
  {
   "cell_type": "code",
   "execution_count": 22,
   "metadata": {},
   "outputs": [
    {
     "data": {
      "text/plain": [
       "['panner',\n",
       " 'makhane',\n",
       " 'tomatoes',\n",
       " 'cheese',\n",
       " 'butter',\n",
       " 'eggs',\n",
       " 'bread',\n",
       " 'Ice cream',\n",
       " 'dry cake',\n",
       " 'dahi bala',\n",
       " 'biriyani',\n",
       " 'Fidget spinner']"
      ]
     },
     "execution_count": 22,
     "metadata": {},
     "output_type": "execute_result"
    }
   ],
   "source": [
    "My_List"
   ]
  },
  {
   "cell_type": "code",
   "execution_count": 23,
   "metadata": {
    "collapsed": true
   },
   "outputs": [],
   "source": [
    "My_List.append ('chole bature')"
   ]
  },
  {
   "cell_type": "code",
   "execution_count": 24,
   "metadata": {},
   "outputs": [
    {
     "data": {
      "text/plain": [
       "['panner',\n",
       " 'makhane',\n",
       " 'tomatoes',\n",
       " 'cheese',\n",
       " 'butter',\n",
       " 'eggs',\n",
       " 'bread',\n",
       " 'Ice cream',\n",
       " 'dry cake',\n",
       " 'dahi bala',\n",
       " 'biriyani',\n",
       " 'Fidget spinner',\n",
       " 'chole bature']"
      ]
     },
     "execution_count": 24,
     "metadata": {},
     "output_type": "execute_result"
    }
   ],
   "source": [
    "My_List"
   ]
  },
  {
   "cell_type": "markdown",
   "metadata": {},
   "source": [
    "My result was correct"
   ]
  },
  {
   "cell_type": "code",
   "execution_count": 25,
   "metadata": {
    "collapsed": true
   },
   "outputs": [],
   "source": [
    "My_List.reverse()"
   ]
  },
  {
   "cell_type": "code",
   "execution_count": 26,
   "metadata": {},
   "outputs": [
    {
     "data": {
      "text/plain": [
       "['chole bature',\n",
       " 'Fidget spinner',\n",
       " 'biriyani',\n",
       " 'dahi bala',\n",
       " 'dry cake',\n",
       " 'Ice cream',\n",
       " 'bread',\n",
       " 'eggs',\n",
       " 'butter',\n",
       " 'cheese',\n",
       " 'tomatoes',\n",
       " 'makhane',\n",
       " 'panner']"
      ]
     },
     "execution_count": 26,
     "metadata": {},
     "output_type": "execute_result"
    }
   ],
   "source": [
    "My_List"
   ]
  },
  {
   "cell_type": "markdown",
   "metadata": {},
   "source": [
    "My result was correct"
   ]
  },
  {
   "cell_type": "code",
   "execution_count": 27,
   "metadata": {
    "collapsed": true
   },
   "outputs": [],
   "source": [
    "My_List.sort()"
   ]
  },
  {
   "cell_type": "code",
   "execution_count": 28,
   "metadata": {},
   "outputs": [
    {
     "data": {
      "text/plain": [
       "['Fidget spinner',\n",
       " 'Ice cream',\n",
       " 'biriyani',\n",
       " 'bread',\n",
       " 'butter',\n",
       " 'cheese',\n",
       " 'chole bature',\n",
       " 'dahi bala',\n",
       " 'dry cake',\n",
       " 'eggs',\n",
       " 'makhane',\n",
       " 'panner',\n",
       " 'tomatoes']"
      ]
     },
     "execution_count": 28,
     "metadata": {},
     "output_type": "execute_result"
    }
   ],
   "source": [
    "My_List"
   ]
  },
  {
   "cell_type": "markdown",
   "metadata": {},
   "source": [
    "My result was correct"
   ]
  },
  {
   "cell_type": "code",
   "execution_count": 29,
   "metadata": {
    "collapsed": true
   },
   "outputs": [],
   "source": [
    "Shopping_List = ['Purse','Shoes','jeans','top','suit']"
   ]
  },
  {
   "cell_type": "code",
   "execution_count": 30,
   "metadata": {
    "collapsed": true
   },
   "outputs": [],
   "source": [
    "Listbox = [My_List,Shopping_List]"
   ]
  },
  {
   "cell_type": "code",
   "execution_count": 31,
   "metadata": {},
   "outputs": [
    {
     "data": {
      "text/plain": [
       "[['Fidget spinner',\n",
       "  'Ice cream',\n",
       "  'biriyani',\n",
       "  'bread',\n",
       "  'butter',\n",
       "  'cheese',\n",
       "  'chole bature',\n",
       "  'dahi bala',\n",
       "  'dry cake',\n",
       "  'eggs',\n",
       "  'makhane',\n",
       "  'panner',\n",
       "  'tomatoes'],\n",
       " ['Purse', 'Shoes', 'jeans', 'top', 'suit']]"
      ]
     },
     "execution_count": 31,
     "metadata": {},
     "output_type": "execute_result"
    }
   ],
   "source": [
    "Listbox"
   ]
  },
  {
   "cell_type": "code",
   "execution_count": 32,
   "metadata": {},
   "outputs": [
    {
     "data": {
      "text/plain": [
       "['Fidget spinner',\n",
       " 'Ice cream',\n",
       " 'biriyani',\n",
       " 'bread',\n",
       " 'butter',\n",
       " 'cheese',\n",
       " 'chole bature',\n",
       " 'dahi bala',\n",
       " 'dry cake',\n",
       " 'eggs',\n",
       " 'makhane',\n",
       " 'panner',\n",
       " 'tomatoes']"
      ]
     },
     "execution_count": 32,
     "metadata": {},
     "output_type": "execute_result"
    }
   ],
   "source": [
    "Listbox[0]"
   ]
  },
  {
   "cell_type": "code",
   "execution_count": 33,
   "metadata": {},
   "outputs": [
    {
     "data": {
      "text/plain": [
       "'Fidget spinner'"
      ]
     },
     "execution_count": 33,
     "metadata": {},
     "output_type": "execute_result"
    }
   ],
   "source": [
    "Listbox[0][0]"
   ]
  },
  {
   "cell_type": "code",
   "execution_count": 34,
   "metadata": {
    "scrolled": true
   },
   "outputs": [
    {
     "data": {
      "text/plain": [
       "'Shoes'"
      ]
     },
     "execution_count": 34,
     "metadata": {},
     "output_type": "execute_result"
    }
   ],
   "source": [
    "Listbox[1][1]"
   ]
  },
  {
   "cell_type": "code",
   "execution_count": 35,
   "metadata": {
    "collapsed": true
   },
   "outputs": [],
   "source": [
    "first_col = [row[0] for row in Listbox]"
   ]
  },
  {
   "cell_type": "code",
   "execution_count": 36,
   "metadata": {},
   "outputs": [
    {
     "data": {
      "text/plain": [
       "['Fidget spinner', 'Purse']"
      ]
     },
     "execution_count": 36,
     "metadata": {},
     "output_type": "execute_result"
    }
   ],
   "source": [
    "first_col"
   ]
  },
  {
   "cell_type": "markdown",
   "metadata": {},
   "source": [
    "My result was correct"
   ]
  }
 ],
 "metadata": {
  "kernelspec": {
   "display_name": "Python 3",
   "language": "python",
   "name": "python3"
  },
  "language_info": {
   "codemirror_mode": {
    "name": "ipython",
    "version": 3
   },
   "file_extension": ".py",
   "mimetype": "text/x-python",
   "name": "python",
   "nbconvert_exporter": "python",
   "pygments_lexer": "ipython3",
   "version": "3.6.1"
  }
 },
 "nbformat": 4,
 "nbformat_minor": 2
}
