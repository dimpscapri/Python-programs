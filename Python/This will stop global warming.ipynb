{
 "cells": [
  {
   "cell_type": "markdown",
   "metadata": {},
   "source": [
    "# <font color=#800000><center>!!!!!!!!!!!This will stop global warming!!!!!!!!!!!</center></font>"
   ]
  },
  {
   "cell_type": "markdown",
   "metadata": {
    "collapsed": true
   },
   "source": [
    "Hello everybody reading this from the age of my school class 1 time till now I  learned a lot for future as a good student and always wondered why dont people stop global warming . Mabye you don't now what am I saying everbody in the northern hemisphere of Earth has long summers but its opposite in the southern hemisphere winters are longer and to make it normal lets follow the steps below. "
   ]
  },
  {
   "cell_type": "markdown",
   "metadata": {},
   "source": [
    "Step 1:- nobody will do smoking  and if see anybody is doing that  stop him or her.<br>\n",
    "Step 2:- all factory and vehicles should work on solar power from now onwards.<br>\n",
    "Step 3:- dont make much noise only horn in case of emergency.<br>\n",
    "Step 4:- if a place is nearby just go by cycle or walk till there.<br>\n",
    "Step 5:- always throw garbage in dustbin.<br>\n",
    "Step 6:- Never cut trees.<br>\n",
    "Step 7:- industrial waste should never go in water.<br>\n",
    "Step 8:- never spit anywhere."
   ]
  },
  {
   "cell_type": "code",
   "execution_count": 1,
   "metadata": {
    "collapsed": false
   },
   "outputs": [
    {
     "name": "stdout",
     "output_type": "stream",
     "text": [
      "Follow it or not cool!!!!!!!!!!!!!!!!!!!!!!!!!!\n"
     ]
    }
   ],
   "source": [
    "print'Follow it or not cool!!!!!!!!!!!!!!!!!!!!!!!!!!'"
   ]
  },
  {
   "cell_type": "code",
   "execution_count": 2,
   "metadata": {
    "collapsed": false
   },
   "outputs": [
    {
     "name": "stdout",
     "output_type": "stream",
     "text": [
      "I am serious!!!!!!!!!!!!!!\n"
     ]
    }
   ],
   "source": [
    "print'I am serious!!!!!!!!!!!!!!'"
   ]
  },
  {
   "cell_type": "code",
   "execution_count": 3,
   "metadata": {
    "collapsed": false
   },
   "outputs": [
    {
     "name": "stdout",
     "output_type": "stream",
     "text": [
      "totally!!!!!!!!!!!!!!!\n"
     ]
    }
   ],
   "source": [
    "print 'totally!!!!!!!!!!!!!!!'"
   ]
  }
 ],
 "metadata": {
  "celltoolbar": "Raw Cell Format",
  "kernelspec": {
   "display_name": "Python 2",
   "language": "python",
   "name": "python2"
  },
  "language_info": {
   "codemirror_mode": {
    "name": "ipython",
    "version": 2
   },
   "file_extension": ".py",
   "mimetype": "text/x-python",
   "name": "python",
   "nbconvert_exporter": "python",
   "pygments_lexer": "ipython2",
   "version": "2.7.13"
  }
 },
 "nbformat": 4,
 "nbformat_minor": 2
}
